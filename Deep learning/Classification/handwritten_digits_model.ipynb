{
  "nbformat": 4,
  "nbformat_minor": 0,
  "metadata": {
    "colab": {
      "provenance": [],
      "mount_file_id": "1oSENiB_EtqZn00OSZSCTaYE1OKEfadZs",
      "authorship_tag": "ABX9TyMb74fQLE9vxOhyYyIW/Xv5",
      "include_colab_link": true
    },
    "kernelspec": {
      "name": "python3",
      "display_name": "Python 3"
    },
    "language_info": {
      "name": "python"
    }
  },
  "cells": [
    {
      "cell_type": "markdown",
      "metadata": {
        "id": "view-in-github",
        "colab_type": "text"
      },
      "source": [
        "<a href=\"https://colab.research.google.com/github/AhmedGamal-Gemy/Digital-Egypt-Pioneers-Initiative-DEPI-/blob/main/Deep%20learning/Classification/handwritten_digits_model.ipynb\" target=\"_parent\"><img src=\"https://colab.research.google.com/assets/colab-badge.svg\" alt=\"Open In Colab\"/></a>"
      ]
    },
    {
      "cell_type": "code",
      "source": [
        "import tensorflow as tf\n",
        "from tensorflow import keras\n",
        "from tensorflow.keras import layers\n",
        "from tensorflow.keras.datasets import mnist\n",
        "import matplotlib.pyplot as plt\n",
        "from os import name\n",
        "import cv2\n",
        "import numpy as np\n",
        "from keras.preprocessing import image"
      ],
      "metadata": {
        "id": "lSjpm8XaDbOn"
      },
      "execution_count": null,
      "outputs": []
    },
    {
      "cell_type": "code",
      "source": [
        "(train_images, train_labels), (test_images, test_labels) = mnist.load_data()"
      ],
      "metadata": {
        "id": "dyV_blwjOmDz"
      },
      "execution_count": null,
      "outputs": []
    },
    {
      "cell_type": "code",
      "source": [
        "train_images[45]"
      ],
      "metadata": {
        "id": "t_aeL3YVkM0M",
        "colab": {
          "base_uri": "https://localhost:8080/",
          "height": 68
        },
        "outputId": "d878c680-5a4d-4810-f52f-f97380e926aa"
      },
      "execution_count": null,
      "outputs": [
        {
          "output_type": "execute_result",
          "data": {
            "text/plain": [
              "array([[  0,   0,   0,   0,   0,   0,   0,   0,   0,   0,   0,   0,   0,\n",
              "          0,   0,   0,   0,   0,   0,   0,   0,   0,   0,   0,   0,   0,\n",
              "          0,   0],\n",
              "       [  0,   0,   0,   0,   0,   0,   0,   0,   0,   0,   0,   0,   0,\n",
              "          0,   0,   0,   0,   0,   0,   0,   0,   0,   0,   0,   0,   0,\n",
              "          0,   0],\n",
              "       [  0,   0,   0,   0,   0,   0,   0,   0,   0,   0,   0,   0,   0,\n",
              "          0,   0,   0,   0,   0,   0,   0,   0,   0,   0,   0,   0,   0,\n",
              "          0,   0],\n",
              "       [  0,   0,   0,   0,   0,   0,   0,   0,   0,   0,   0,   0,   0,\n",
              "          0,   0,   0,   0,   0,   0,   0,   0,   0,   0,   0,   0,   0,\n",
              "          0,   0],\n",
              "       [  0,   0,   0,   0,   0,   0,   0,   0,   0,   0,   0,   0,   0,\n",
              "          0,   0,   0,   0,   0,   0,   0,   0,   0,   0,   0,   0,   0,\n",
              "          0,   0],\n",
              "       [  0,   0,   0,   0,   0,   0,   0,   0,   0,   0,   0,   0,   0,\n",
              "          0,   0,   0,   0,   0,   0,   0,   0,   0,   0,   0,   0,   0,\n",
              "          0,   0],\n",
              "       [  0,   0,   0,   0,   0,   0,   0,   0,   0,   0,   0,   0,   0,\n",
              "          0,   0,   0,   0,   0,   0,   0,   0,   0,   0,   0,   0,   0,\n",
              "          0,   0],\n",
              "       [  0,   0,   0,   0,   0,   0,   0,   0,   0,   0,   0,   0,  11,\n",
              "        185, 255, 253, 253, 230, 132, 132,  31,   0,   0,   0,   0,   0,\n",
              "          0,   0],\n",
              "       [  0,   0,   0,   0,   0,   0,   0,   0,   0,   0,   9,  71, 242,\n",
              "        252, 252, 228, 231, 252, 252, 252, 167,   0,   0,   0,   0,   0,\n",
              "          0,   0],\n",
              "       [  0,   0,   0,   0,   0,   0,   0,   0,   0,  28, 166, 252, 252,\n",
              "        235,  92,   0,  14, 142, 252, 252, 150,   0,   0,   0,   0,   0,\n",
              "          0,   0],\n",
              "       [  0,   0,   0,   0,   0,   0,   0,   0,  12, 204, 252, 234, 152,\n",
              "         44,   0,   0,  48, 225, 252, 180,  16,   0,   0,   0,   0,   0,\n",
              "          0,   0],\n",
              "       [  0,   0,   0,   0,   0,   0,   0,  12, 164, 252, 232,  61,   0,\n",
              "          0,   0,   6, 179, 252, 252,  60,   0,   0,   0,   0,   0,   0,\n",
              "          0,   0],\n",
              "       [  0,   0,   0,   0,   0,   0,   0,  49, 252, 252,  76,   0,   0,\n",
              "          0,  44, 199, 252, 252, 252,  60,   0,   0,   0,   0,   0,   0,\n",
              "          0,   0],\n",
              "       [  0,   0,   0,   0,   0,   0,   0,  89, 252, 228,  32,   0,   0,\n",
              "         99, 231, 244, 220, 252, 203,  12,   0,   0,   0,   0,   0,   0,\n",
              "          0,   0],\n",
              "       [  0,   0,   0,   0,   0,   0,   0, 169, 252, 207,  97,  97, 206,\n",
              "        234, 243,  32, 157, 252, 145,   0,   0,   0,   0,   0,   0,   0,\n",
              "          0,   0],\n",
              "       [  0,   0,   0,   0,   0,   0,   0,  60, 252, 252, 252, 252, 252,\n",
              "        200,  22,  11, 198, 231,  41,   0,   0,   0,   0,   0,   0,   0,\n",
              "          0,   0],\n",
              "       [  0,   0,   0,   0,   0,   0,   0,  26, 131, 224, 252, 252, 142,\n",
              "         11,   0,  82, 252, 204,   0,   0,   0,   0,   0,   0,   0,   0,\n",
              "          0,   0],\n",
              "       [  0,   0,   0,   0,   0,   0,   0,   0,   0,   0,   0,   0,   0,\n",
              "          0,  13, 253, 253, 141,   0,   0,   0,   0,   0,   0,   0,   0,\n",
              "          0,   0],\n",
              "       [  0,   0,   0,   0,   0,   0,   0,   0,   0,   0,   0,   0,   0,\n",
              "          0,  82, 252, 220,  36,   0,   0,   0,   0,   0,   0,   0,   0,\n",
              "          0,   0],\n",
              "       [  0,   0,   0,   0,   0,   0,   0,   0,   0,   0,   0,   0,   0,\n",
              "          0, 208, 252,  96,   0,   0,   0,   0,   0,   0,   0,   0,   0,\n",
              "          0,   0],\n",
              "       [  0,   0,   0,   0,   0,   0,   0,   0,   0,   0,   0,   0,   0,\n",
              "         24, 253, 247,  78,   0,   0,   0,   0,   0,   0,   0,   0,   0,\n",
              "          0,   0],\n",
              "       [  0,   0,   0,   0,   0,   0,   0,   0,   0,   0,   0,   0,   0,\n",
              "        121, 253, 199,   0,   0,   0,   0,   0,   0,   0,   0,   0,   0,\n",
              "          0,   0],\n",
              "       [  0,   0,   0,   0,   0,   0,   0,   0,   0,   0,   0,   0,  32,\n",
              "        216, 244,  26,   0,   0,   0,   0,   0,   0,   0,   0,   0,   0,\n",
              "          0,   0],\n",
              "       [  0,   0,   0,   0,   0,   0,   0,   0,   0,   0,   0,   0, 207,\n",
              "        252, 241,   0,   0,   0,   0,   0,   0,   0,   0,   0,   0,   0,\n",
              "          0,   0],\n",
              "       [  0,   0,   0,   0,   0,   0,   0,   0,   0,   0,  33, 200, 249,\n",
              "        252,  92,   0,   0,   0,   0,   0,   0,   0,   0,   0,   0,   0,\n",
              "          0,   0],\n",
              "       [  0,   0,   0,   0,   0,   0,   0,   0,   0,   0,  85, 252, 252,\n",
              "        142,   0,   0,   0,   0,   0,   0,   0,   0,   0,   0,   0,   0,\n",
              "          0,   0],\n",
              "       [  0,   0,   0,   0,   0,   0,   0,   0,   0,   0,  85, 252, 200,\n",
              "         11,   0,   0,   0,   0,   0,   0,   0,   0,   0,   0,   0,   0,\n",
              "          0,   0],\n",
              "       [  0,   0,   0,   0,   0,   0,   0,   0,   0,   0,   0,   0,   0,\n",
              "          0,   0,   0,   0,   0,   0,   0,   0,   0,   0,   0,   0,   0,\n",
              "          0,   0]], dtype=uint8)"
            ],
            "text/html": [
              "<style>\n",
              "      .ndarray_repr .ndarray_raw_data {\n",
              "        display: none;\n",
              "      }\n",
              "      .ndarray_repr.show_array .ndarray_raw_data {\n",
              "        display: block;\n",
              "      }\n",
              "      .ndarray_repr.show_array .ndarray_image_preview {\n",
              "        display: none;\n",
              "      }\n",
              "      </style>\n",
              "      <div id=\"id-18e156e5-c063-4057-bc06-db7ff1e94af9\" class=\"ndarray_repr\"><pre>ndarray (28, 28) <button style=\"padding: 0 2px;\">show data</button></pre><img src=\"data:image/png;base64,iVBORw0KGgoAAAANSUhEUgAAABwAAAAcCAAAAABXZoBIAAAA40lEQVR4nGNgGJ6Ae+f/v3+ftbTIY0pxun/68+fJ8z9//izHkJNZ9ufP6xgGvr4/f6ahy/Gc+fNqhg4Dg8HDP1sE0OWW/Hlhy8DAwLb5zx8bdI2Gf/74MDAw6Bz/g0Uy8s8TBQaG5Odf7vw5zQMTZIHSAQyvHRlyZTh1ahWOfUHXafPnz58/f06IcR97ronhEanmB3/+9HEzBP05gyEHA7x///bilAz6c0cFp+SFPwlIPCYUOQnd3+9waqz8exynnMKNL1I4Jc//+YhLSvHEzz8xuCRD//zpw2lo6J8T3DglMQEAunhan4UXu8MAAAAASUVORK5CYII=\" class=\"ndarray_image_preview\" /><pre class=\"ndarray_raw_data\">array([[  0,   0,   0,   0,   0,   0,   0,   0,   0,   0,   0,   0,   0,\n",
              "          0,   0,   0,   0,   0,   0,   0,   0,   0,   0,   0,   0,   0,\n",
              "          0,   0],\n",
              "       [  0,   0,   0,   0,   0,   0,   0,   0,   0,   0,   0,   0,   0,\n",
              "          0,   0,   0,   0,   0,   0,   0,   0,   0,   0,   0,   0,   0,\n",
              "          0,   0],\n",
              "       [  0,   0,   0,   0,   0,   0,   0,   0,   0,   0,   0,   0,   0,\n",
              "          0,   0,   0,   0,   0,   0,   0,   0,   0,   0,   0,   0,   0,\n",
              "          0,   0],\n",
              "       [  0,   0,   0,   0,   0,   0,   0,   0,   0,   0,   0,   0,   0,\n",
              "          0,   0,   0,   0,   0,   0,   0,   0,   0,   0,   0,   0,   0,\n",
              "          0,   0],\n",
              "       [  0,   0,   0,   0,   0,   0,   0,   0,   0,   0,   0,   0,   0,\n",
              "          0,   0,   0,   0,   0,   0,   0,   0,   0,   0,   0,   0,   0,\n",
              "          0,   0],\n",
              "       [  0,   0,   0,   0,   0,   0,   0,   0,   0,   0,   0,   0,   0,\n",
              "          0,   0,   0,   0,   0,   0,   0,   0,   0,   0,   0,   0,   0,\n",
              "          0,   0],\n",
              "       [  0,   0,   0,   0,   0,   0,   0,   0,   0,   0,   0,   0,   0,\n",
              "          0,   0,   0,   0,   0,   0,   0,   0,   0,   0,   0,   0,   0,\n",
              "          0,   0],\n",
              "       [  0,   0,   0,   0,   0,   0,   0,   0,   0,   0,   0,   0,  11,\n",
              "        185, 255, 253, 253, 230, 132, 132,  31,   0,   0,   0,   0,   0,\n",
              "          0,   0],\n",
              "       [  0,   0,   0,   0,   0,   0,   0,   0,   0,   0,   9,  71, 242,\n",
              "        252, 252, 228, 231, 252, 252, 252, 167,   0,   0,   0,   0,   0,\n",
              "          0,   0],\n",
              "       [  0,   0,   0,   0,   0,   0,   0,   0,   0,  28, 166, 252, 252,\n",
              "        235,  92,   0,  14, 142, 252, 252, 150,   0,   0,   0,   0,   0,\n",
              "          0,   0],\n",
              "       [  0,   0,   0,   0,   0,   0,   0,   0,  12, 204, 252, 234, 152,\n",
              "         44,   0,   0,  48, 225, 252, 180,  16,   0,   0,   0,   0,   0,\n",
              "          0,   0],\n",
              "       [  0,   0,   0,   0,   0,   0,   0,  12, 164, 252, 232,  61,   0,\n",
              "          0,   0,   6, 179, 252, 252,  60,   0,   0,   0,   0,   0,   0,\n",
              "          0,   0],\n",
              "       [  0,   0,   0,   0,   0,   0,   0,  49, 252, 252,  76,   0,   0,\n",
              "          0,  44, 199, 252, 252, 252,  60,   0,   0,   0,   0,   0,   0,\n",
              "          0,   0],\n",
              "       [  0,   0,   0,   0,   0,   0,   0,  89, 252, 228,  32,   0,   0,\n",
              "         99, 231, 244, 220, 252, 203,  12,   0,   0,   0,   0,   0,   0,\n",
              "          0,   0],\n",
              "       [  0,   0,   0,   0,   0,   0,   0, 169, 252, 207,  97,  97, 206,\n",
              "        234, 243,  32, 157, 252, 145,   0,   0,   0,   0,   0,   0,   0,\n",
              "          0,   0],\n",
              "       [  0,   0,   0,   0,   0,   0,   0,  60, 252, 252, 252, 252, 252,\n",
              "        200,  22,  11, 198, 231,  41,   0,   0,   0,   0,   0,   0,   0,\n",
              "          0,   0],\n",
              "       [  0,   0,   0,   0,   0,   0,   0,  26, 131, 224, 252, 252, 142,\n",
              "         11,   0,  82, 252, 204,   0,   0,   0,   0,   0,   0,   0,   0,\n",
              "          0,   0],\n",
              "       [  0,   0,   0,   0,   0,   0,   0,   0,   0,   0,   0,   0,   0,\n",
              "          0,  13, 253, 253, 141,   0,   0,   0,   0,   0,   0,   0,   0,\n",
              "          0,   0],\n",
              "       [  0,   0,   0,   0,   0,   0,   0,   0,   0,   0,   0,   0,   0,\n",
              "          0,  82, 252, 220,  36,   0,   0,   0,   0,   0,   0,   0,   0,\n",
              "          0,   0],\n",
              "       [  0,   0,   0,   0,   0,   0,   0,   0,   0,   0,   0,   0,   0,\n",
              "          0, 208, 252,  96,   0,   0,   0,   0,   0,   0,   0,   0,   0,\n",
              "          0,   0],\n",
              "       [  0,   0,   0,   0,   0,   0,   0,   0,   0,   0,   0,   0,   0,\n",
              "         24, 253, 247,  78,   0,   0,   0,   0,   0,   0,   0,   0,   0,\n",
              "          0,   0],\n",
              "       [  0,   0,   0,   0,   0,   0,   0,   0,   0,   0,   0,   0,   0,\n",
              "        121, 253, 199,   0,   0,   0,   0,   0,   0,   0,   0,   0,   0,\n",
              "          0,   0],\n",
              "       [  0,   0,   0,   0,   0,   0,   0,   0,   0,   0,   0,   0,  32,\n",
              "        216, 244,  26,   0,   0,   0,   0,   0,   0,   0,   0,   0,   0,\n",
              "          0,   0],\n",
              "       [  0,   0,   0,   0,   0,   0,   0,   0,   0,   0,   0,   0, 207,\n",
              "        252, 241,   0,   0,   0,   0,   0,   0,   0,   0,   0,   0,   0,\n",
              "          0,   0],\n",
              "       [  0,   0,   0,   0,   0,   0,   0,   0,   0,   0,  33, 200, 249,\n",
              "        252,  92,   0,   0,   0,   0,   0,   0,   0,   0,   0,   0,   0,\n",
              "          0,   0],\n",
              "       [  0,   0,   0,   0,   0,   0,   0,   0,   0,   0,  85, 252, 252,\n",
              "        142,   0,   0,   0,   0,   0,   0,   0,   0,   0,   0,   0,   0,\n",
              "          0,   0],\n",
              "       [  0,   0,   0,   0,   0,   0,   0,   0,   0,   0,  85, 252, 200,\n",
              "         11,   0,   0,   0,   0,   0,   0,   0,   0,   0,   0,   0,   0,\n",
              "          0,   0],\n",
              "       [  0,   0,   0,   0,   0,   0,   0,   0,   0,   0,   0,   0,   0,\n",
              "          0,   0,   0,   0,   0,   0,   0,   0,   0,   0,   0,   0,   0,\n",
              "          0,   0]], dtype=uint8)</pre></div><script>\n",
              "      (() => {\n",
              "      const titles = ['show data', 'hide data'];\n",
              "      let index = 0\n",
              "      document.querySelector('#id-18e156e5-c063-4057-bc06-db7ff1e94af9 button').onclick = (e) => {\n",
              "        document.querySelector('#id-18e156e5-c063-4057-bc06-db7ff1e94af9').classList.toggle('show_array');\n",
              "        index = (++index) % 2;\n",
              "        document.querySelector('#id-18e156e5-c063-4057-bc06-db7ff1e94af9 button').textContent = titles[index];\n",
              "        e.preventDefault();\n",
              "        e.stopPropagation();\n",
              "      }\n",
              "      })();\n",
              "    </script>"
            ]
          },
          "metadata": {},
          "execution_count": 41
        }
      ]
    },
    {
      "cell_type": "code",
      "source": [
        "# just to display example of the data\n",
        "\n",
        "image_index = 175\n",
        "\n",
        "plt.imshow(train_images[image_index],cmap = 'gray')\n",
        "plt.title('This image is {}'.format( train_labels[image_index] )  )\n",
        "plt.show()"
      ],
      "metadata": {
        "colab": {
          "base_uri": "https://localhost:8080/",
          "height": 452
        },
        "id": "5wCi2DJGO_QC",
        "outputId": "0e6f0603-61d1-45bf-8d7d-8fa0edfed3d1"
      },
      "execution_count": null,
      "outputs": [
        {
          "output_type": "display_data",
          "data": {
            "text/plain": [
              "<Figure size 640x480 with 1 Axes>"
            ],
            "image/png": "[encoded data removed]"
          },
          "metadata": {}
        }
      ]
    },
    {
      "cell_type": "code",
      "source": [
        "test_images.shape"
      ],
      "metadata": {
        "colab": {
          "base_uri": "https://localhost:8080/"
        },
        "id": "4Fxtl6gig5yP",
        "outputId": "2ec93917-c78d-44cf-ceb7-52556156cb52"
      },
      "execution_count": null,
      "outputs": [
        {
          "output_type": "execute_result",
          "data": {
            "text/plain": [
              "(10000, 28, 28)"
            ]
          },
          "metadata": {},
          "execution_count": 43
        }
      ]
    },
    {
      "cell_type": "code",
      "source": [
        "# Making sure the shapes are correct\n",
        "\n",
        "print(\"The original shape : {}\".format(train_images.shape) )\n",
        "\n",
        "# reshaping\n",
        "\n",
        "features_num = train_images.shape[1] * train_images.shape[2]\n",
        "\n",
        "train_images = train_images.reshape(-1,features_num).astype(\"float32\") / 255\n",
        "\n",
        "test_images = test_images.reshape(-1,features_num).astype(\"float32\") / 255\n",
        "\n",
        "\n",
        "print(\"The shape now : {}\".format( test_images.shape ) )\n"
      ],
      "metadata": {
        "colab": {
          "base_uri": "https://localhost:8080/"
        },
        "id": "Xsa4ugTrRgXM",
        "outputId": "e6a52995-1d3e-4af8-dd2a-3a80c2787b2b"
      },
      "execution_count": null,
      "outputs": [
        {
          "output_type": "stream",
          "name": "stdout",
          "text": [
            "The original shape : (60000, 28, 28)\n",
            "The shape now : (10000, 784)\n"
          ]
        }
      ]
    },
    {
      "cell_type": "code",
      "source": [
        "# define the structure of the neural network\n",
        "\n",
        "\n",
        "# create the input layer contains features number of nodes\n",
        "inputs = keras.Input( shape = ( features_num, ) )\n",
        "\n",
        "# create a new layer and connect it with the previous layer inputs\n",
        "first_layer = layers.Dense(512, activation = \"relu\", name = \"First_layer\") (inputs)\n",
        "\n",
        "# create a new layer and connect it with the previous layer first layer\n",
        "second_layer = layers.Dense(256, activation = \"relu\", name = \"Second_layer\") (first_layer)\n",
        "\n",
        "third_layer = layers.Dense(128, activation = \"relu\", name = \"Third_layer\") (second_layer)\n",
        "\n",
        "# create the output and connect it with the previous layer second layer\n",
        "outputs = layers.Dense(10, activation = 'softmax', name = \"Output_layer\") ( third_layer )\n",
        "\n",
        "model = keras.Model(inputs = inputs , outputs = outputs)\n",
        "\n"
      ],
      "metadata": {
        "id": "ldLaKZKEVJSb"
      },
      "execution_count": null,
      "outputs": []
    },
    {
      "cell_type": "code",
      "source": [
        "model.compile(\n",
        "\n",
        "    loss = keras.losses.SparseCategoricalCrossentropy(from_logits= False),\n",
        "    optimizer = keras.optimizers.Adam(learning_rate = 0.001),\n",
        "    metrics = [\"accuracy\"]\n",
        "\n",
        ")"
      ],
      "metadata": {
        "id": "xQnBJo9ceina"
      },
      "execution_count": null,
      "outputs": []
    },
    {
      "cell_type": "code",
      "source": [
        "model.fit(train_images,train_labels, batch_size = 64, epochs = 10, verbose = 2)"
      ],
      "metadata": {
        "colab": {
          "base_uri": "https://localhost:8080/"
        },
        "id": "H994TugkiylC",
        "outputId": "01ffd910-9471-425c-db4f-5d8c530196a8"
      },
      "execution_count": null,
      "outputs": [
        {
          "output_type": "stream",
          "name": "stdout",
          "text": [
            "Epoch 1/10\n",
            "938/938 - 14s - 15ms/step - accuracy: 0.9387 - loss: 0.2040\n",
            "Epoch 2/10\n",
            "938/938 - 20s - 22ms/step - accuracy: 0.9740 - loss: 0.0834\n",
            "Epoch 3/10\n",
            "938/938 - 20s - 22ms/step - accuracy: 0.9814 - loss: 0.0567\n",
            "Epoch 4/10\n",
            "938/938 - 11s - 12ms/step - accuracy: 0.9866 - loss: 0.0428\n",
            "Epoch 5/10\n",
            "938/938 - 22s - 23ms/step - accuracy: 0.9894 - loss: 0.0344\n",
            "Epoch 6/10\n",
            "938/938 - 21s - 22ms/step - accuracy: 0.9902 - loss: 0.0300\n",
            "Epoch 7/10\n",
            "938/938 - 20s - 21ms/step - accuracy: 0.9921 - loss: 0.0237\n",
            "Epoch 8/10\n",
            "938/938 - 12s - 12ms/step - accuracy: 0.9933 - loss: 0.0214\n",
            "Epoch 9/10\n",
            "938/938 - 11s - 12ms/step - accuracy: 0.9941 - loss: 0.0179\n",
            "Epoch 10/10\n",
            "938/938 - 21s - 23ms/step - accuracy: 0.9945 - loss: 0.0176\n"
          ]
        },
        {
          "output_type": "execute_result",
          "data": {
            "text/plain": [
              "<keras.src.callbacks.history.History at 0x7e4871b49dd0>"
            ]
          },
          "metadata": {},
          "execution_count": 47
        }
      ]
    },
    {
      "cell_type": "code",
      "source": [
        "model.evaluate(test_images,test_labels, batch_size = 64)"
      ],
      "metadata": {
        "colab": {
          "base_uri": "https://localhost:8080/"
        },
        "id": "dgF1IT_tjTTW",
        "outputId": "c2ba6179-a5c8-45cb-cffa-1a06c10ed0bf"
      },
      "execution_count": null,
      "outputs": [
        {
          "output_type": "stream",
          "name": "stdout",
          "text": [
            "\u001b[1m157/157\u001b[0m \u001b[32m━━━━━━━━━━━━━━━━━━━━\u001b[0m\u001b[37m\u001b[0m \u001b[1m1s\u001b[0m 5ms/step - accuracy: 0.9767 - loss: 0.0891\n"
          ]
        },
        {
          "output_type": "execute_result",
          "data": {
            "text/plain": [
              "[0.07095466554164886, 0.9818000197410583]"
            ]
          },
          "metadata": {},
          "execution_count": 48
        }
      ]
    },
    {
      "cell_type": "code",
      "source": [
        "import os\n",
        "# Check if DISPLAY environment variable is set (indicating a graphical environment)\n",
        "if os.environ.get('DISPLAY'):\n",
        "    # Use Tkinter for file selection if DISPLAY is set\n",
        "    import tkinter as tk\n",
        "    from tkinter import filedialog\n",
        "\n",
        "    root = tk.Tk()\n",
        "    root.withdraw()\n",
        "\n",
        "    file_path = filedialog.askopenfilename()\n",
        "\n",
        "    if file_path:\n",
        "        print(f\"Selected file: {file_path}\")\n",
        "        file = file_path\n",
        "    else:\n",
        "        print(\"No file selected.\")\n",
        "else:\n",
        "    # Use manual file path input if DISPLAY is not set\n",
        "    file = input(\"Enter the path to your image file: \")\n"
      ],
      "metadata": {
        "colab": {
          "base_uri": "https://localhost:8080/"
        },
        "id": "f9NeM6zS8GVM",
        "outputId": "786c3a11-67ab-4b5b-d492-bb8b6c5e3a61"
      },
      "execution_count": null,
      "outputs": [
        {
          "name": "stdout",
          "output_type": "stream",
          "text": [
            "Enter the path to your image file: /content/Two.jpg\n"
          ]
        }
      ]
    },
    {
      "cell_type": "code",
      "source": [
        "# Take an digit image from the user then resize it to the needed size\n",
        "\n",
        "# Load sample image\n",
        "test_image = cv2.imread(file, cv2.IMREAD_GRAYSCALE)\n",
        "\n",
        "# Preview sample image\n",
        "plt.imshow(test_image, cmap='gray')\n",
        "\n",
        "# Apply simple thresholding\n",
        "_, img_thresholded = cv2.threshold(test_image, 150, 255, cv2.THRESH_BINARY)\n",
        "# plt.imshow(img_thresholded)\n",
        "\n",
        "# Format Image\n",
        "img_resized = cv2.resize(img_thresholded, (28, 28))\n",
        "\n",
        "# Preview reformatted image\n",
        "plt.imshow(img_resized,cmap='gray')\n",
        "\n",
        "#  Normalize pixel values to [0, 1]\n",
        "img_resized = img_resized.astype(\"float32\") / 255.0\n",
        "\n",
        "# Flatten the image to match the input shape of your model\n",
        "img_array = img_resized.reshape(1, -1)\n",
        "\n"
      ],
      "metadata": {
        "colab": {
          "base_uri": "https://localhost:8080/",
          "height": 430
        },
        "id": "ulqcFeiGosaB",
        "outputId": "62799551-e858-406f-ef85-765e723af2db"
      },
      "execution_count": null,
      "outputs": [
        {
          "output_type": "display_data",
          "data": {
            "text/plain": [
              "<Figure size 640x480 with 1 Axes>"
            ],
            "image/png": "[encoded data removed]"
          },
          "metadata": {}
        }
      ]
    },
    {
      "cell_type": "code",
      "source": [
        "# Give the model a photo i write for a digit and test it personally\n",
        "\n",
        "predictions = model.predict(img_array)\n",
        "\n",
        "predicted_class = np.argmax(predictions)\n",
        "\n",
        "print(f\"The model predicts the digit as : {predicted_class}\")"
      ],
      "metadata": {
        "colab": {
          "base_uri": "https://localhost:8080/"
        },
        "id": "p5zW_g6ekbd0",
        "outputId": "b3beef59-4303-4894-bea8-bd7f72217093"
      },
      "execution_count": null,
      "outputs": [
        {
          "output_type": "stream",
          "name": "stdout",
          "text": [
            "\u001b[1m1/1\u001b[0m \u001b[32m━━━━━━━━━━━━━━━━━━━━\u001b[0m\u001b[37m\u001b[0m \u001b[1m0s\u001b[0m 60ms/step\n",
            "The model predicts the digit as : 7\n"
          ]
        }
      ]
    }
  ]
}