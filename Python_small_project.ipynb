{
  "nbformat": 4,
  "nbformat_minor": 0,
  "metadata": {
    "colab": {
      "provenance": []
    },
    "kernelspec": {
      "name": "python3",
      "display_name": "Python 3"
    },
    "language_info": {
      "name": "python"
    }
  },
  "cells": [
    {
      "cell_type": "code",
      "execution_count": null,
      "metadata": {
        "id": "VEjBISFQfpw8"
      },
      "outputs": [],
      "source": [
        "class Patient:\n",
        "    patients = []\n",
        "    def __init__(self, id, name, age, address):\n",
        "        self.id = id\n",
        "        self.name = name\n",
        "        self.age = age\n",
        "        self.address = address\n",
        "\n",
        "    def add_patient():\n",
        "        id = input(\"Enter patient ID: \")\n",
        "        name = input(\"Enter patient name: \")\n",
        "        age = input(\"Enter patient age: \")\n",
        "        address = input(\"Enter patient address: \")\n",
        "        patient = Patient(id, name, age, address)\n",
        "        Patient.patients.append(patient)\n",
        "        print(\"Patient added successfully!\")\n",
        "\n",
        "    def view_patients():\n",
        "        if not Patient.patients:\n",
        "            print(\"No patients found.\")\n",
        "        else:\n",
        "            print(\"Patient Details:\")\n",
        "            for patient in Patient.patients:\n",
        "                print(f\"ID: {patient.id}, Name: {patient.name}, Age: {patient.age}, Address: {patient.address}\")\n",
        "\n",
        "    def search_patient():\n",
        "        id = input(\"Enter patient ID to search: \")\n",
        "        for patient in Patient.patients:\n",
        "            if patient.id == id:\n",
        "                print(f\"Patient found: ID: {patient.id}, Name: {patient.name}, Age: {patient.age}, Address: {patient.address}\")\n",
        "                return\n",
        "        print(\"Patient not found.\")\n"
      ]
    },
    {
      "cell_type": "code",
      "source": [
        "class Doctor:\n",
        "    doctors = []\n",
        "    def __init__(self, id, name, specialization):\n",
        "        self.id = id\n",
        "        self.name = name\n",
        "        self.specialization = specialization\n",
        "\n",
        "    def add_doctor():\n",
        "      id = input(\"Enter doctor ID: \")\n",
        "      name = input(\"Enter doctor name: \")\n",
        "      specialization = input(\"Enter doctor specialization: \")\n",
        "      doctor = Doctor(id, name, specialization)\n",
        "      Doctor.doctors.append(doctor)\n",
        "      print(\"Doctor added successfully!\")\n",
        "\n",
        "    def view_doctors():\n",
        "      if not Doctor.doctors:\n",
        "        print(\"No doctors found.\")\n",
        "      else:\n",
        "        print(\"Doctor Details:\")\n",
        "        for doctor in Doctor.doctors:\n",
        "          print(f\"ID: {doctor.id}, Name: {doctor.name}, Specialization: {doctor.specialization}\")\n",
        "\n",
        "    def search_doctor():\n",
        "        id = input(\"Enter doctor ID to search: \")\n",
        "        for doctor in Doctor.doctors:\n",
        "            if doctor.id == id:\n",
        "                print(f\"Doctor found: ID: {doctor.id}, Name: {doctor.name}, specialization: {doctor.specialization}\")\n",
        "                return\n",
        "        print(\"Doctor not found.\")"
      ],
      "metadata": {
        "id": "lns9NYgXNCAS"
      },
      "execution_count": null,
      "outputs": []
    },
    {
      "cell_type": "code",
      "source": [
        "class Appointment:\n",
        "    appointments = []\n",
        "    def __init__(self, patient_id, doctor_id, date, time):\n",
        "        self.patient_id = patient_id\n",
        "        self.doctor_id = doctor_id\n",
        "        self.date = date\n",
        "        self.time = time\n",
        "    def book_appointment():\n",
        "        patient_id = input(\"Enter patient ID: \")\n",
        "        doctor_id = input(\"Enter doctor ID: \")\n",
        "        date = input(\"Enter appointment date (DD/MM/YYYY): \")\n",
        "        time = input(\"Enter appointment time (HH:MM): \")\n",
        "        appointment = Appointment(patient_id, doctor_id, date, time)\n",
        "        Appointment.appointments.append(appointment)\n",
        "        print(\"Appointment booked successfully!\")\n",
        "\n",
        "    def view_appointments():\n",
        "        if not Appointment.appointments:\n",
        "            print(\"No appointments found.\")\n",
        "        else:\n",
        "            print(\"Appointment Details:\")\n",
        "            for appointment in Appointment.appointments:\n",
        "                print(f\"Patient ID: {appointment.patient_id}, Doctor ID: {appointment.doctor_id}, Date: {appointment.date}, Time: {appointment.time}\")"
      ],
      "metadata": {
        "id": "SQtG4wExNE3q"
      },
      "execution_count": null,
      "outputs": []
    },
    {
      "cell_type": "code",
      "source": [
        "class Hospital:\n",
        "\n",
        "    def __init__(self):\n",
        "      pass\n",
        "    def begin_hospital(self):\n",
        "\n",
        "      while True:\n",
        "        print(\"\\nHospital Management System\")\n",
        "        print(\"1. Add Patient\")\n",
        "        print(\"2. View Patients\")\n",
        "        print(\"3. Search Patient\")\n",
        "        print(\"4. Add Doctor\")\n",
        "        print(\"5. View Doctors\")\n",
        "        print(\"6. Search Doctor\")\n",
        "        print(\"7. Book Appointment\")\n",
        "        print(\"8. View Appointments\")\n",
        "        print(\"9. Exit\")\n",
        "\n",
        "        choice = input(\"Enter your choice: \")\n",
        "        if choice == '1':\n",
        "          Patient.add_patient()\n",
        "        elif choice == '2':\n",
        "          Patient.view_patients()\n",
        "        elif choice == '3':\n",
        "          Patient.search_patient()\n",
        "        elif choice == '4':\n",
        "          Doctor.add_doctor()\n",
        "        elif choice == '5':\n",
        "          Doctor.view_doctors()\n",
        "        elif choice == '6':\n",
        "          Doctor.search_doctor()\n",
        "        elif choice == '7':\n",
        "          Appointment.book_appointment()\n",
        "        elif choice == '8':\n",
        "          Appointment.view_appointments()\n",
        "        elif choice == '9':\n",
        "          break\n",
        "        else:\n",
        "          print(\"Invalid choice. Please try again.\")\n",
        "\n"
      ],
      "metadata": {
        "id": "04PZ17makzDQ"
      },
      "execution_count": null,
      "outputs": []
    },
    {
      "cell_type": "code",
      "source": [
        "hospital = Hospital()\n",
        "hospital.begin_hospital()\n"
      ],
      "metadata": {
        "colab": {
          "base_uri": "https://localhost:8080/"
        },
        "id": "nIJcJ5RsMsvg",
        "outputId": "574eb475-6c95-452b-ec3e-f331e24b3ffb"
      },
      "execution_count": null,
      "outputs": [
        {
          "name": "stdout",
          "output_type": "stream",
          "text": [
            "\n",
            "Hospital Management System\n",
            "1. Add Patient\n",
            "2. View Patients\n",
            "3. Search Patient\n",
            "4. Add Doctor\n",
            "5. View Doctors\n",
            "6. Search Doctor\n",
            "7. Book Appointment\n",
            "8. View Appointments\n",
            "9. Exit\n",
            "Enter your choice: 1\n",
            "Enter patient ID: 5555\n",
            "Enter patient name: ahmed\n",
            "Enter patient age: 888\n",
            "Enter patient address: aaaaa\n",
            "Patient added successfully!\n",
            "\n",
            "Hospital Management System\n",
            "1. Add Patient\n",
            "2. View Patients\n",
            "3. Search Patient\n",
            "4. Add Doctor\n",
            "5. View Doctors\n",
            "6. Search Doctor\n",
            "7. Book Appointment\n",
            "8. View Appointments\n",
            "9. Exit\n",
            "Enter your choice: 2\n",
            "Patient Details:\n",
            "ID: 5555, Name: ahmed, Age: 888, Address: aaaaa\n",
            "\n",
            "Hospital Management System\n",
            "1. Add Patient\n",
            "2. View Patients\n",
            "3. Search Patient\n",
            "4. Add Doctor\n",
            "5. View Doctors\n",
            "6. Search Doctor\n",
            "7. Book Appointment\n",
            "8. View Appointments\n",
            "9. Exit\n",
            "Enter your choice: 9\n"
          ]
        }
      ]
    }
  ]
}